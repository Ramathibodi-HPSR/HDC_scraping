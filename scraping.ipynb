{
 "cells": [
  {
   "cell_type": "code",
   "execution_count": 1,
   "metadata": {},
   "outputs": [],
   "source": [
    "%load_ext autoreload\n",
    "%autoreload 2\n",
    "\n",
    "from scripts import hdc_scraping\n",
    "from IPython.display import clear_output"
   ]
  },
  {
   "cell_type": "code",
   "execution_count": 2,
   "metadata": {},
   "outputs": [],
   "source": [
    "# Define what you need to extract\n",
    "indicator = 'Home visit palliative care'\n",
    "url = 'https://hdcservice.moph.go.th/hdc/reports/report.php?&cat_id=b08560518ca0ebcaf2016dab69fb38b5&id=8eb4ec8a40c080aadfdbb895be74e771'\n",
    "level = 'รายอำเภอ' # Select from ['รายอำเภอ']\n",
    "yearback = 5"
   ]
  },
  {
   "cell_type": "code",
   "execution_count": 4,
   "metadata": {},
   "outputs": [
    {
     "name": "stdout",
     "output_type": "stream",
     "text": [
      "Extracting Home visit palliative care: https://hdcservice.moph.go.th/hdc/reports/report.php?&cat_id=b08560518ca0ebcaf2016dab69fb38b5&id=8eb4ec8a40c080aadfdbb895be74e771\n",
      "เขตสุขภาพที่ 1\n",
      "done\n",
      "เขตสุขภาพที่ 2\n",
      "Error: Message: no such window: target window already closed\n",
      "from unknown error: web view not found\n",
      "  (Session info: chrome=133.0.6943.53)\n",
      "Stacktrace:\n",
      "0   chromedriver                        0x000000010117794c cxxbridge1$str$ptr + 2728228\n",
      "1   chromedriver                        0x000000010116ffa8 cxxbridge1$str$ptr + 2697088\n",
      "2   chromedriver                        0x0000000100cd5ff0 cxxbridge1$string$len + 93348\n",
      "3   chromedriver                        0x0000000100caf9c8 chromedriver + 129480\n",
      "4   chromedriver                        0x0000000100d44ec4 cxxbridge1$string$len + 547704\n",
      "5   chromedriver                        0x0000000100d5da14 cxxbridge1$string$len + 648904\n",
      "6   chromedriver                        0x0000000100d11004 cxxbridge1$string$len + 335032\n",
      "7   chromedriver                        0x00000001011401f4 cxxbridge1$str$ptr + 2501068\n",
      "8   chromedriver                        0x0000000101143508 cxxbridge1$str$ptr + 2514144\n",
      "9   chromedriver                        0x00000001011258a4 cxxbridge1$str$ptr + 2392188\n",
      "10  chromedriver                        0x0000000101143db0 cxxbridge1$str$ptr + 2516360\n",
      "11  chromedriver                        0x0000000101116934 cxxbridge1$str$ptr + 2330892\n",
      "12  chromedriver                        0x00000001011601e0 cxxbridge1$str$ptr + 2632120\n",
      "13  chromedriver                        0x0000000101160368 cxxbridge1$str$ptr + 2632512\n",
      "14  chromedriver                        0x000000010116fc1c cxxbridge1$str$ptr + 2696180\n",
      "15  libsystem_pthread.dylib             0x00000001999caf94 _pthread_start + 136\n",
      "16  libsystem_pthread.dylib             0x00000001999c5d34 thread_start + 8\n",
      "\n",
      "Retrying\n",
      "Error: Message: no such window: target window already closed\n",
      "from unknown error: web view not found\n",
      "  (Session info: chrome=133.0.6943.53)\n",
      "Stacktrace:\n",
      "0   chromedriver                        0x000000010117794c cxxbridge1$str$ptr + 2728228\n",
      "1   chromedriver                        0x000000010116ffa8 cxxbridge1$str$ptr + 2697088\n",
      "2   chromedriver                        0x0000000100cd5ff0 cxxbridge1$string$len + 93348\n",
      "3   chromedriver                        0x0000000100caf9c8 chromedriver + 129480\n",
      "4   chromedriver                        0x0000000100d44ec4 cxxbridge1$string$len + 547704\n",
      "5   chromedriver                        0x0000000100d5da14 cxxbridge1$string$len + 648904\n",
      "6   chromedriver                        0x0000000100d11004 cxxbridge1$string$len + 335032\n",
      "7   chromedriver                        0x00000001011401f4 cxxbridge1$str$ptr + 2501068\n",
      "8   chromedriver                        0x0000000101143508 cxxbridge1$str$ptr + 2514144\n",
      "9   chromedriver                        0x00000001011258a4 cxxbridge1$str$ptr + 2392188\n",
      "10  chromedriver                        0x0000000101143db0 cxxbridge1$str$ptr + 2516360\n",
      "11  chromedriver                        0x0000000101116934 cxxbridge1$str$ptr + 2330892\n",
      "12  chromedriver                        0x00000001011601e0 cxxbridge1$str$ptr + 2632120\n",
      "13  chromedriver                        0x0000000101160368 cxxbridge1$str$ptr + 2632512\n",
      "14  chromedriver                        0x000000010116fc1c cxxbridge1$str$ptr + 2696180\n",
      "15  libsystem_pthread.dylib             0x00000001999caf94 _pthread_start + 136\n",
      "16  libsystem_pthread.dylib             0x00000001999c5d34 thread_start + 8\n",
      "\n",
      "Retrying\n",
      "Error: Message: no such window: target window already closed\n",
      "from unknown error: web view not found\n",
      "  (Session info: chrome=133.0.6943.53)\n",
      "Stacktrace:\n",
      "0   chromedriver                        0x000000010117794c cxxbridge1$str$ptr + 2728228\n",
      "1   chromedriver                        0x000000010116ffa8 cxxbridge1$str$ptr + 2697088\n",
      "2   chromedriver                        0x0000000100cd5ff0 cxxbridge1$string$len + 93348\n",
      "3   chromedriver                        0x0000000100caf9c8 chromedriver + 129480\n",
      "4   chromedriver                        0x0000000100d44ec4 cxxbridge1$string$len + 547704\n",
      "5   chromedriver                        0x0000000100d5da14 cxxbridge1$string$len + 648904\n",
      "6   chromedriver                        0x0000000100d11004 cxxbridge1$string$len + 335032\n",
      "7   chromedriver                        0x00000001011401f4 cxxbridge1$str$ptr + 2501068\n",
      "8   chromedriver                        0x0000000101143508 cxxbridge1$str$ptr + 2514144\n",
      "9   chromedriver                        0x00000001011258a4 cxxbridge1$str$ptr + 2392188\n",
      "10  chromedriver                        0x0000000101143db0 cxxbridge1$str$ptr + 2516360\n",
      "11  chromedriver                        0x0000000101116934 cxxbridge1$str$ptr + 2330892\n",
      "12  chromedriver                        0x00000001011601e0 cxxbridge1$str$ptr + 2632120\n",
      "13  chromedriver                        0x0000000101160368 cxxbridge1$str$ptr + 2632512\n",
      "14  chromedriver                        0x000000010116fc1c cxxbridge1$str$ptr + 2696180\n",
      "15  libsystem_pthread.dylib             0x00000001999caf94 _pthread_start + 136\n",
      "16  libsystem_pthread.dylib             0x00000001999c5d34 thread_start + 8\n",
      "\n",
      "Retrying\n",
      "Max retries\n"
     ]
    },
    {
     "ename": "NoSuchWindowException",
     "evalue": "Message: no such window: target window already closed\nfrom unknown error: web view not found\n  (Session info: chrome=133.0.6943.53)\nStacktrace:\n0   chromedriver                        0x000000010117794c cxxbridge1$str$ptr + 2728228\n1   chromedriver                        0x000000010116ffa8 cxxbridge1$str$ptr + 2697088\n2   chromedriver                        0x0000000100cd5ff0 cxxbridge1$string$len + 93348\n3   chromedriver                        0x0000000100caf9c8 chromedriver + 129480\n4   chromedriver                        0x0000000100d44ec4 cxxbridge1$string$len + 547704\n5   chromedriver                        0x0000000100d5da14 cxxbridge1$string$len + 648904\n6   chromedriver                        0x0000000100d11004 cxxbridge1$string$len + 335032\n7   chromedriver                        0x00000001011401f4 cxxbridge1$str$ptr + 2501068\n8   chromedriver                        0x0000000101143508 cxxbridge1$str$ptr + 2514144\n9   chromedriver                        0x00000001011258a4 cxxbridge1$str$ptr + 2392188\n10  chromedriver                        0x0000000101143db0 cxxbridge1$str$ptr + 2516360\n11  chromedriver                        0x0000000101116934 cxxbridge1$str$ptr + 2330892\n12  chromedriver                        0x00000001011601e0 cxxbridge1$str$ptr + 2632120\n13  chromedriver                        0x0000000101160368 cxxbridge1$str$ptr + 2632512\n14  chromedriver                        0x000000010116fc1c cxxbridge1$str$ptr + 2696180\n15  libsystem_pthread.dylib             0x00000001999caf94 _pthread_start + 136\n16  libsystem_pthread.dylib             0x00000001999c5d34 thread_start + 8\n",
     "output_type": "error",
     "traceback": [
      "\u001b[0;31m---------------------------------------------------------------------------\u001b[0m",
      "\u001b[0;31mNoSuchWindowException\u001b[0m                     Traceback (most recent call last)",
      "Cell \u001b[0;32mIn[4], line 1\u001b[0m\n\u001b[0;32m----> 1\u001b[0m \u001b[43mhdc_scraping\u001b[49m\u001b[38;5;241;43m.\u001b[39;49m\u001b[43mscraping\u001b[49m\u001b[43m(\u001b[49m\u001b[43mindicator\u001b[49m\u001b[43m,\u001b[49m\u001b[43m \u001b[49m\u001b[43murl\u001b[49m\u001b[43m,\u001b[49m\u001b[43m \u001b[49m\u001b[43mlevel\u001b[49m\u001b[43m,\u001b[49m\u001b[43m \u001b[49m\u001b[43myearback\u001b[49m\u001b[43m)\u001b[49m\n\u001b[1;32m      3\u001b[0m clear_output()\n\u001b[1;32m      4\u001b[0m \u001b[38;5;28mprint\u001b[39m(\u001b[38;5;124m\"\u001b[39m\u001b[38;5;124mScraped successfully\u001b[39m\u001b[38;5;124m\"\u001b[39m)\n",
      "File \u001b[0;32m~/Desktop/Research/Source/HDC_scraping/scripts/hdc_scraping.py:67\u001b[0m, in \u001b[0;36mscraping\u001b[0;34m(indicator, url, level, yearback)\u001b[0m\n\u001b[1;32m     63\u001b[0m area\u001b[38;5;241m.\u001b[39mselect_by_visible_text(\u001b[38;5;124m'\u001b[39m\u001b[38;5;124mรายอำเภอ\u001b[39m\u001b[38;5;124m'\u001b[39m)\n\u001b[1;32m     66\u001b[0m \u001b[38;5;28;01mfor\u001b[39;00m z_option \u001b[38;5;129;01min\u001b[39;00m sel_zone\u001b[38;5;241m.\u001b[39moptions[\u001b[38;5;241m1\u001b[39m:]:  \u001b[38;5;66;03m# Skip the first \"------ ทั้งหมด ------\" option\u001b[39;00m\n\u001b[0;32m---> 67\u001b[0m     zone_name \u001b[38;5;241m=\u001b[39m \u001b[43mz_option\u001b[49m\u001b[38;5;241;43m.\u001b[39;49m\u001b[43mtext\u001b[49m\n\u001b[1;32m     68\u001b[0m     \u001b[38;5;28mprint\u001b[39m(zone_name)\n\u001b[1;32m     69\u001b[0m     \u001b[38;5;66;03m# Select zone\u001b[39;00m\n",
      "File \u001b[0;32m~/Desktop/Research/Source/HDC_scraping/.venv/lib/python3.12/site-packages/selenium/webdriver/remote/webelement.py:109\u001b[0m, in \u001b[0;36mWebElement.text\u001b[0;34m(self)\u001b[0m\n\u001b[1;32m     96\u001b[0m \u001b[38;5;129m@property\u001b[39m\n\u001b[1;32m     97\u001b[0m \u001b[38;5;28;01mdef\u001b[39;00m\u001b[38;5;250m \u001b[39m\u001b[38;5;21mtext\u001b[39m(\u001b[38;5;28mself\u001b[39m) \u001b[38;5;241m-\u001b[39m\u001b[38;5;241m>\u001b[39m \u001b[38;5;28mstr\u001b[39m:\n\u001b[1;32m     98\u001b[0m \u001b[38;5;250m    \u001b[39m\u001b[38;5;124;03m\"\"\"The text of the element.\u001b[39;00m\n\u001b[1;32m     99\u001b[0m \n\u001b[1;32m    100\u001b[0m \u001b[38;5;124;03m    Returns:\u001b[39;00m\n\u001b[0;32m   (...)\u001b[0m\n\u001b[1;32m    107\u001b[0m \u001b[38;5;124;03m    >>> print(element.text)\u001b[39;00m\n\u001b[1;32m    108\u001b[0m \u001b[38;5;124;03m    \"\"\"\u001b[39;00m\n\u001b[0;32m--> 109\u001b[0m     \u001b[38;5;28;01mreturn\u001b[39;00m \u001b[38;5;28;43mself\u001b[39;49m\u001b[38;5;241;43m.\u001b[39;49m\u001b[43m_execute\u001b[49m\u001b[43m(\u001b[49m\u001b[43mCommand\u001b[49m\u001b[38;5;241;43m.\u001b[39;49m\u001b[43mGET_ELEMENT_TEXT\u001b[49m\u001b[43m)\u001b[49m[\u001b[38;5;124m\"\u001b[39m\u001b[38;5;124mvalue\u001b[39m\u001b[38;5;124m\"\u001b[39m]\n",
      "File \u001b[0;32m~/Desktop/Research/Source/HDC_scraping/.venv/lib/python3.12/site-packages/selenium/webdriver/remote/webelement.py:570\u001b[0m, in \u001b[0;36mWebElement._execute\u001b[0;34m(self, command, params)\u001b[0m\n\u001b[1;32m    568\u001b[0m     params \u001b[38;5;241m=\u001b[39m {}\n\u001b[1;32m    569\u001b[0m params[\u001b[38;5;124m\"\u001b[39m\u001b[38;5;124mid\u001b[39m\u001b[38;5;124m\"\u001b[39m] \u001b[38;5;241m=\u001b[39m \u001b[38;5;28mself\u001b[39m\u001b[38;5;241m.\u001b[39m_id\n\u001b[0;32m--> 570\u001b[0m \u001b[38;5;28;01mreturn\u001b[39;00m \u001b[38;5;28;43mself\u001b[39;49m\u001b[38;5;241;43m.\u001b[39;49m\u001b[43m_parent\u001b[49m\u001b[38;5;241;43m.\u001b[39;49m\u001b[43mexecute\u001b[49m\u001b[43m(\u001b[49m\u001b[43mcommand\u001b[49m\u001b[43m,\u001b[49m\u001b[43m \u001b[49m\u001b[43mparams\u001b[49m\u001b[43m)\u001b[49m\n",
      "File \u001b[0;32m~/Desktop/Research/Source/HDC_scraping/.venv/lib/python3.12/site-packages/selenium/webdriver/remote/webdriver.py:429\u001b[0m, in \u001b[0;36mWebDriver.execute\u001b[0;34m(self, driver_command, params)\u001b[0m\n\u001b[1;32m    427\u001b[0m response \u001b[38;5;241m=\u001b[39m \u001b[38;5;28mself\u001b[39m\u001b[38;5;241m.\u001b[39mcommand_executor\u001b[38;5;241m.\u001b[39mexecute(driver_command, params)\n\u001b[1;32m    428\u001b[0m \u001b[38;5;28;01mif\u001b[39;00m response:\n\u001b[0;32m--> 429\u001b[0m     \u001b[38;5;28;43mself\u001b[39;49m\u001b[38;5;241;43m.\u001b[39;49m\u001b[43merror_handler\u001b[49m\u001b[38;5;241;43m.\u001b[39;49m\u001b[43mcheck_response\u001b[49m\u001b[43m(\u001b[49m\u001b[43mresponse\u001b[49m\u001b[43m)\u001b[49m\n\u001b[1;32m    430\u001b[0m     response[\u001b[38;5;124m\"\u001b[39m\u001b[38;5;124mvalue\u001b[39m\u001b[38;5;124m\"\u001b[39m] \u001b[38;5;241m=\u001b[39m \u001b[38;5;28mself\u001b[39m\u001b[38;5;241m.\u001b[39m_unwrap_value(response\u001b[38;5;241m.\u001b[39mget(\u001b[38;5;124m\"\u001b[39m\u001b[38;5;124mvalue\u001b[39m\u001b[38;5;124m\"\u001b[39m, \u001b[38;5;28;01mNone\u001b[39;00m))\n\u001b[1;32m    431\u001b[0m     \u001b[38;5;28;01mreturn\u001b[39;00m response\n",
      "File \u001b[0;32m~/Desktop/Research/Source/HDC_scraping/.venv/lib/python3.12/site-packages/selenium/webdriver/remote/errorhandler.py:232\u001b[0m, in \u001b[0;36mErrorHandler.check_response\u001b[0;34m(self, response)\u001b[0m\n\u001b[1;32m    230\u001b[0m         alert_text \u001b[38;5;241m=\u001b[39m value[\u001b[38;5;124m\"\u001b[39m\u001b[38;5;124malert\u001b[39m\u001b[38;5;124m\"\u001b[39m]\u001b[38;5;241m.\u001b[39mget(\u001b[38;5;124m\"\u001b[39m\u001b[38;5;124mtext\u001b[39m\u001b[38;5;124m\"\u001b[39m)\n\u001b[1;32m    231\u001b[0m     \u001b[38;5;28;01mraise\u001b[39;00m exception_class(message, screen, stacktrace, alert_text)  \u001b[38;5;66;03m# type: ignore[call-arg]  # mypy is not smart enough here\u001b[39;00m\n\u001b[0;32m--> 232\u001b[0m \u001b[38;5;28;01mraise\u001b[39;00m exception_class(message, screen, stacktrace)\n",
      "\u001b[0;31mNoSuchWindowException\u001b[0m: Message: no such window: target window already closed\nfrom unknown error: web view not found\n  (Session info: chrome=133.0.6943.53)\nStacktrace:\n0   chromedriver                        0x000000010117794c cxxbridge1$str$ptr + 2728228\n1   chromedriver                        0x000000010116ffa8 cxxbridge1$str$ptr + 2697088\n2   chromedriver                        0x0000000100cd5ff0 cxxbridge1$string$len + 93348\n3   chromedriver                        0x0000000100caf9c8 chromedriver + 129480\n4   chromedriver                        0x0000000100d44ec4 cxxbridge1$string$len + 547704\n5   chromedriver                        0x0000000100d5da14 cxxbridge1$string$len + 648904\n6   chromedriver                        0x0000000100d11004 cxxbridge1$string$len + 335032\n7   chromedriver                        0x00000001011401f4 cxxbridge1$str$ptr + 2501068\n8   chromedriver                        0x0000000101143508 cxxbridge1$str$ptr + 2514144\n9   chromedriver                        0x00000001011258a4 cxxbridge1$str$ptr + 2392188\n10  chromedriver                        0x0000000101143db0 cxxbridge1$str$ptr + 2516360\n11  chromedriver                        0x0000000101116934 cxxbridge1$str$ptr + 2330892\n12  chromedriver                        0x00000001011601e0 cxxbridge1$str$ptr + 2632120\n13  chromedriver                        0x0000000101160368 cxxbridge1$str$ptr + 2632512\n14  chromedriver                        0x000000010116fc1c cxxbridge1$str$ptr + 2696180\n15  libsystem_pthread.dylib             0x00000001999caf94 _pthread_start + 136\n16  libsystem_pthread.dylib             0x00000001999c5d34 thread_start + 8\n"
     ]
    }
   ],
   "source": [
    "hdc_scraping.scraping(indicator, url, level, yearback)\n",
    "\n",
    "clear_output()\n",
    "print(\"Scraped successfully\")"
   ]
  }
 ],
 "metadata": {
  "kernelspec": {
   "display_name": ".venv",
   "language": "python",
   "name": "python3"
  },
  "language_info": {
   "codemirror_mode": {
    "name": "ipython",
    "version": 3
   },
   "file_extension": ".py",
   "mimetype": "text/x-python",
   "name": "python",
   "nbconvert_exporter": "python",
   "pygments_lexer": "ipython3",
   "version": "3.12.3"
  }
 },
 "nbformat": 4,
 "nbformat_minor": 2
}
